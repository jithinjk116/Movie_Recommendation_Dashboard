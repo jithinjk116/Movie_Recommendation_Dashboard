{
 "cells": [
  {
   "cell_type": "markdown",
   "id": "340a1a71",
   "metadata": {},
   "source": [
    "# Instructions to run the Jupyter notebooks\n",
    "\n",
    "    1.Go to the link https://grouplens.org/datasets/movielens/20m/ and download the file ml-20m.zip from the page.\n",
    "    2.Unzip ALL the files and extract the files to the same location as notebook is in.\n",
    "    3.Go to the link https://www.kaggle.com/datasets/juzershakir/tmdb-movies-dataset and download the file from the page\n",
    "    4.Unzip the file and copy the file tmdb_movies_data.csv to the same location as notebook is in.\n",
    "    5.Make sure you have below libraries already installed.\n",
    "        •\tnumpy\n",
    "        •\tpandas\n",
    "        •\tmatplotlib.pyplot\n",
    "        •\tseaborn\n",
    "        •\tpickle\n",
    "        •\tCounter\n",
    "        •\tCollections\n",
    "        •\tscipy.sparse\n",
    "        •\tcsr_matrix\n",
    "        •\tsklearn\n",
    "        •\tfuzzywuzzy\n",
    "        •\tdash\n",
    "        •\trequests\n",
    "\n",
    "    6.Run the notebook Movie Recommendation.ipynb file first.\n",
    "    7.Make sure that below files are created after the run on the folder you have the notebooks.\n",
    "\n",
    "        •\tuser_rating.pkl\n",
    "        •\tmovie_list.pkl\n",
    "        •\tcba_similarity.pkl\n",
    "        •\tmovie_recommendations_knn.csv\n",
    "        •\tgrouped_user_filtered_df.csv\n",
    "        •\tunique_genres.pkl\n",
    "        •\tunique_cast.pkl\n",
    "        •\tuser_semantics.csv\n",
    "        \n",
    "    \n",
    "    8.Now run the Next Python Notebook, Dashboard.ipynb. This will create the dashboard. This will create the dashboard\n"
   ]
  },
  {
   "cell_type": "markdown",
   "id": "fb1e6bcc",
   "metadata": {},
   "source": [
    "# Movie Recommendation System\n"
   ]
  },
  {
   "cell_type": "markdown",
   "id": "109a6e41",
   "metadata": {},
   "source": [
    "<div style=\"color:black;\n",
    "           display:fill;\n",
    "           border-radius:5px;\n",
    "           background-color:Beige;\n",
    "           font-size:110%;\n",
    "           letter-spacing:0.5px\">\n",
    "\n",
    "<p style=\"padding: 10px;\n",
    "              color:black;\">Hello, <br>\n",
    "    \n",
    "\n",
    "In this notebook we will be creating 2 recommendation models, \n",
    "\n",
    "1. Item based recommendation using KNN after doing SVD ( Matrix Factorization)(Implicit Feedback).\n",
    "2. Cold Start problem resolution using Content based Recommendation.\n",
    "<br>\n",
    "</p>\n",
    "</div>"
   ]
  },
  {
   "cell_type": "markdown",
   "id": "474e54ca",
   "metadata": {},
   "source": [
    "<div style=\"color:black;\n",
    "           display:fill;\n",
    "           border-radius:5px;\n",
    "           background-color:Beige;\n",
    "           font-size:110%;\n",
    "           letter-spacing:0.5px\">\n",
    "<p style=\"padding: 10px;\n",
    "              color:black;\">       \n",
    "\n",
    "We need to download the zip file from below links\n",
    "\n",
    "- Go to the link https://grouplens.org/datasets/movielens/20m/ and download the file **ml-20m.zip** from the page\n",
    "- Unzip **ALL** the files and extract the files to the same location as notebook is in.\n",
    "- Go to the link https://www.kaggle.com/datasets/juzershakir/tmdb-movies-dataset and download the file from the page\n",
    "- Unzip the file and copy the file **tmdb_movies_data.csv** to the same location as notebook is in.\n",
    "\n",
    "</p>\n",
    "</div>"
   ]
  },
  {
   "cell_type": "code",
   "execution_count": 1,
   "id": "ae53df7e",
   "metadata": {},
   "outputs": [],
   "source": [
    "# importing the libraries needed for the work.\n",
    "import numpy as np\n",
    "import pandas as pd\n",
    "import matplotlib.pyplot as plt\n",
    "import seaborn as sns\n",
    "import pickle as pickle"
   ]
  },
  {
   "cell_type": "code",
   "execution_count": 2,
   "id": "6f42ba43",
   "metadata": {},
   "outputs": [],
   "source": [
    "# loading the datset to the code for the files movies.csv and ratings.csv\n",
    "movies = pd.read_csv('movies.csv')\n",
    "ratings = pd.read_csv('ratings.csv')"
   ]
  },
  {
   "cell_type": "code",
   "execution_count": 3,
   "id": "9804fe74",
   "metadata": {},
   "outputs": [],
   "source": [
    "#removing the year and the special characters from the title\n",
    "movies['title'] = movies['title'].str.replace(r'\\s\\(\\d{4}\\)', '', case=False, regex=True)\n",
    "movies['title'] = movies['title'].str.replace(',', ' ').str.replace('&', ' ').str.replace('$', ' ').str.replace(\"'\", '')"
   ]
  },
  {
   "cell_type": "code",
   "execution_count": 4,
   "id": "22a27da4",
   "metadata": {},
   "outputs": [
    {
     "name": "stdout",
     "output_type": "stream",
     "text": [
      "Number of ratings: 20001539\n",
      "Number of unique movieId's: 26744\n",
      "Number of unique users: 138497\n",
      "Average number of ratings per user: 144.42\n",
      "Average number of ratings per movie: 747.89\n"
     ]
    }
   ],
   "source": [
    "# Here we will be doing the analysis of the data and find characteritics of the data\n",
    "n_ratings = len(ratings)\n",
    "n_movies = ratings['movieId'].nunique()\n",
    "n_users = ratings['userId'].nunique()\n",
    "\n",
    "print(f\"Number of ratings: {n_ratings}\")\n",
    "print(f\"Number of unique movieId's: {n_movies}\")\n",
    "print(f\"Number of unique users: {n_users}\")\n",
    "print(f\"Average number of ratings per user: {round(n_ratings/n_users, 2)}\")\n",
    "print(f\"Average number of ratings per movie: {round(n_ratings/n_movies, 2)}\")"
   ]
  },
  {
   "cell_type": "code",
   "execution_count": 5,
   "id": "4ec28d30",
   "metadata": {},
   "outputs": [
    {
     "name": "stdout",
     "output_type": "stream",
     "text": [
      "Average number of ratings for a given movie: 747.89\n",
      "Average rating for a given movie: 3.13\n"
     ]
    }
   ],
   "source": [
    "# So here we will define the Bayesian Average function.\n",
    "\n",
    "movie_stats = ratings.groupby('movieId')['rating'].agg(['count', 'mean'])\n",
    "C = movie_stats['count'].mean()\n",
    "m = movie_stats['mean'].mean()\n",
    "\n",
    "print(f\"Average number of ratings for a given movie: {C:.2f}\")\n",
    "print(f\"Average rating for a given movie: {m:.2f}\")\n",
    "\n",
    "def bayesian_avg(ratings):\n",
    "    bayesian_avg = (C*m+ratings.sum())/(C+ratings.count()) ### formula for bayesian average\n",
    "    return round(bayesian_avg, 3)"
   ]
  },
  {
   "cell_type": "code",
   "execution_count": 6,
   "id": "e0582648",
   "metadata": {},
   "outputs": [
    {
     "data": {
      "text/html": [
       "<div>\n",
       "<style scoped>\n",
       "    .dataframe tbody tr th:only-of-type {\n",
       "        vertical-align: middle;\n",
       "    }\n",
       "\n",
       "    .dataframe tbody tr th {\n",
       "        vertical-align: top;\n",
       "    }\n",
       "\n",
       "    .dataframe thead th {\n",
       "        text-align: right;\n",
       "    }\n",
       "</style>\n",
       "<table border=\"1\" class=\"dataframe\">\n",
       "  <thead>\n",
       "    <tr style=\"text-align: right;\">\n",
       "      <th></th>\n",
       "      <th>movieId</th>\n",
       "      <th>count</th>\n",
       "      <th>mean</th>\n",
       "      <th>bayesian_avg</th>\n",
       "    </tr>\n",
       "  </thead>\n",
       "  <tbody>\n",
       "    <tr>\n",
       "      <th>0</th>\n",
       "      <td>1</td>\n",
       "      <td>49701</td>\n",
       "      <td>3.921269</td>\n",
       "      <td>3.910</td>\n",
       "    </tr>\n",
       "    <tr>\n",
       "      <th>1</th>\n",
       "      <td>2</td>\n",
       "      <td>22245</td>\n",
       "      <td>3.211958</td>\n",
       "      <td>3.209</td>\n",
       "    </tr>\n",
       "    <tr>\n",
       "      <th>2</th>\n",
       "      <td>3</td>\n",
       "      <td>12737</td>\n",
       "      <td>3.151095</td>\n",
       "      <td>3.150</td>\n",
       "    </tr>\n",
       "    <tr>\n",
       "      <th>3</th>\n",
       "      <td>4</td>\n",
       "      <td>2756</td>\n",
       "      <td>2.861393</td>\n",
       "      <td>2.919</td>\n",
       "    </tr>\n",
       "    <tr>\n",
       "      <th>4</th>\n",
       "      <td>5</td>\n",
       "      <td>12163</td>\n",
       "      <td>3.064417</td>\n",
       "      <td>3.068</td>\n",
       "    </tr>\n",
       "    <tr>\n",
       "      <th>...</th>\n",
       "      <td>...</td>\n",
       "      <td>...</td>\n",
       "      <td>...</td>\n",
       "      <td>...</td>\n",
       "    </tr>\n",
       "    <tr>\n",
       "      <th>26739</th>\n",
       "      <td>131254</td>\n",
       "      <td>1</td>\n",
       "      <td>4.000000</td>\n",
       "      <td>3.134</td>\n",
       "    </tr>\n",
       "    <tr>\n",
       "      <th>26740</th>\n",
       "      <td>131256</td>\n",
       "      <td>1</td>\n",
       "      <td>4.000000</td>\n",
       "      <td>3.134</td>\n",
       "    </tr>\n",
       "    <tr>\n",
       "      <th>26741</th>\n",
       "      <td>131258</td>\n",
       "      <td>1</td>\n",
       "      <td>2.500000</td>\n",
       "      <td>3.132</td>\n",
       "    </tr>\n",
       "    <tr>\n",
       "      <th>26742</th>\n",
       "      <td>131260</td>\n",
       "      <td>1</td>\n",
       "      <td>3.000000</td>\n",
       "      <td>3.133</td>\n",
       "    </tr>\n",
       "    <tr>\n",
       "      <th>26743</th>\n",
       "      <td>131262</td>\n",
       "      <td>1</td>\n",
       "      <td>4.000000</td>\n",
       "      <td>3.134</td>\n",
       "    </tr>\n",
       "  </tbody>\n",
       "</table>\n",
       "<p>26744 rows × 4 columns</p>\n",
       "</div>"
      ],
      "text/plain": [
       "       movieId  count      mean  bayesian_avg\n",
       "0            1  49701  3.921269         3.910\n",
       "1            2  22245  3.211958         3.209\n",
       "2            3  12737  3.151095         3.150\n",
       "3            4   2756  2.861393         2.919\n",
       "4            5  12163  3.064417         3.068\n",
       "...        ...    ...       ...           ...\n",
       "26739   131254      1  4.000000         3.134\n",
       "26740   131256      1  4.000000         3.134\n",
       "26741   131258      1  2.500000         3.132\n",
       "26742   131260      1  3.000000         3.133\n",
       "26743   131262      1  4.000000         3.134\n",
       "\n",
       "[26744 rows x 4 columns]"
      ]
     },
     "execution_count": 6,
     "metadata": {},
     "output_type": "execute_result"
    }
   ],
   "source": [
    "#Now we will create a column with Bayesian Average for each movies\n",
    "bayesian_avg_ratings = ratings.groupby('movieId')['rating'].agg(bayesian_avg).reset_index()\n",
    "bayesian_avg_ratings.columns = ['movieId', 'bayesian_avg']\n",
    "movie_stats = movie_stats.merge(bayesian_avg_ratings, on='movieId')\n",
    "movie_stats"
   ]
  },
  {
   "cell_type": "code",
   "execution_count": 7,
   "id": "bef5f8f3",
   "metadata": {},
   "outputs": [
    {
     "data": {
      "text/html": [
       "<div>\n",
       "<style scoped>\n",
       "    .dataframe tbody tr th:only-of-type {\n",
       "        vertical-align: middle;\n",
       "    }\n",
       "\n",
       "    .dataframe tbody tr th {\n",
       "        vertical-align: top;\n",
       "    }\n",
       "\n",
       "    .dataframe thead th {\n",
       "        text-align: right;\n",
       "    }\n",
       "</style>\n",
       "<table border=\"1\" class=\"dataframe\">\n",
       "  <thead>\n",
       "    <tr style=\"text-align: right;\">\n",
       "      <th></th>\n",
       "      <th>movieId</th>\n",
       "      <th>count</th>\n",
       "      <th>mean</th>\n",
       "      <th>bayesian_avg</th>\n",
       "      <th>title</th>\n",
       "    </tr>\n",
       "  </thead>\n",
       "  <tbody>\n",
       "    <tr>\n",
       "      <th>315</th>\n",
       "      <td>318</td>\n",
       "      <td>63370</td>\n",
       "      <td>4.446978</td>\n",
       "      <td>4.432</td>\n",
       "      <td>Shawshank Redemption  The</td>\n",
       "    </tr>\n",
       "    <tr>\n",
       "      <th>843</th>\n",
       "      <td>858</td>\n",
       "      <td>41357</td>\n",
       "      <td>4.364690</td>\n",
       "      <td>4.343</td>\n",
       "      <td>Godfather  The</td>\n",
       "    </tr>\n",
       "    <tr>\n",
       "      <th>49</th>\n",
       "      <td>50</td>\n",
       "      <td>47008</td>\n",
       "      <td>4.334358</td>\n",
       "      <td>4.316</td>\n",
       "      <td>Usual Suspects  The</td>\n",
       "    </tr>\n",
       "    <tr>\n",
       "      <th>523</th>\n",
       "      <td>527</td>\n",
       "      <td>50056</td>\n",
       "      <td>4.310183</td>\n",
       "      <td>4.293</td>\n",
       "      <td>Schindlers List</td>\n",
       "    </tr>\n",
       "    <tr>\n",
       "      <th>1195</th>\n",
       "      <td>1221</td>\n",
       "      <td>27398</td>\n",
       "      <td>4.275641</td>\n",
       "      <td>4.245</td>\n",
       "      <td>Godfather: Part II  The</td>\n",
       "    </tr>\n",
       "    <tr>\n",
       "      <th>...</th>\n",
       "      <td>...</td>\n",
       "      <td>...</td>\n",
       "      <td>...</td>\n",
       "      <td>...</td>\n",
       "      <td>...</td>\n",
       "    </tr>\n",
       "    <tr>\n",
       "      <th>2298</th>\n",
       "      <td>2383</td>\n",
       "      <td>2155</td>\n",
       "      <td>1.794896</td>\n",
       "      <td>2.140</td>\n",
       "      <td>Police Academy 6: City Under Siege</td>\n",
       "    </tr>\n",
       "    <tr>\n",
       "      <th>1648</th>\n",
       "      <td>1707</td>\n",
       "      <td>2697</td>\n",
       "      <td>1.819985</td>\n",
       "      <td>2.105</td>\n",
       "      <td>Home Alone 3</td>\n",
       "    </tr>\n",
       "    <tr>\n",
       "      <th>1694</th>\n",
       "      <td>1760</td>\n",
       "      <td>2658</td>\n",
       "      <td>1.770316</td>\n",
       "      <td>2.070</td>\n",
       "      <td>Spice World</td>\n",
       "    </tr>\n",
       "    <tr>\n",
       "      <th>1506</th>\n",
       "      <td>1556</td>\n",
       "      <td>5326</td>\n",
       "      <td>1.912317</td>\n",
       "      <td>2.063</td>\n",
       "      <td>Speed 2: Cruise Control</td>\n",
       "    </tr>\n",
       "    <tr>\n",
       "      <th>3502</th>\n",
       "      <td>3593</td>\n",
       "      <td>3973</td>\n",
       "      <td>1.600554</td>\n",
       "      <td>1.843</td>\n",
       "      <td>Battlefield Earth</td>\n",
       "    </tr>\n",
       "  </tbody>\n",
       "</table>\n",
       "<p>26744 rows × 5 columns</p>\n",
       "</div>"
      ],
      "text/plain": [
       "      movieId  count      mean  bayesian_avg  \\\n",
       "315       318  63370  4.446978         4.432   \n",
       "843       858  41357  4.364690         4.343   \n",
       "49         50  47008  4.334358         4.316   \n",
       "523       527  50056  4.310183         4.293   \n",
       "1195     1221  27398  4.275641         4.245   \n",
       "...       ...    ...       ...           ...   \n",
       "2298     2383   2155  1.794896         2.140   \n",
       "1648     1707   2697  1.819985         2.105   \n",
       "1694     1760   2658  1.770316         2.070   \n",
       "1506     1556   5326  1.912317         2.063   \n",
       "3502     3593   3973  1.600554         1.843   \n",
       "\n",
       "                                   title  \n",
       "315            Shawshank Redemption  The  \n",
       "843                       Godfather  The  \n",
       "49                   Usual Suspects  The  \n",
       "523                      Schindlers List  \n",
       "1195             Godfather: Part II  The  \n",
       "...                                  ...  \n",
       "2298  Police Academy 6: City Under Siege  \n",
       "1648                        Home Alone 3  \n",
       "1694                         Spice World  \n",
       "1506             Speed 2: Cruise Control  \n",
       "3502                   Battlefield Earth  \n",
       "\n",
       "[26744 rows x 5 columns]"
      ]
     },
     "execution_count": 7,
     "metadata": {},
     "output_type": "execute_result"
    }
   ],
   "source": [
    "# Will add the movies name column also to the dataset.\n",
    "movie_stats = movie_stats.merge(movies[['movieId', 'title']])\n",
    "movie_stats\n",
    "movie_stats.sort_values('bayesian_avg',ascending=False)"
   ]
  },
  {
   "cell_type": "markdown",
   "id": "a46f0170",
   "metadata": {},
   "source": [
    "<div style=\"color:black;\n",
    "           display:fill;\n",
    "           border-radius:5px;\n",
    "           background-color:Beige;\n",
    "           font-size:110%;\n",
    "           letter-spacing:0.5px\">\n",
    "<p style=\"padding: 10px;\n",
    "              color:black; font-weight:bold;\">       \n",
    "##### Using the Bayesian average, we see that `Shawshank Redemption`, `The Godfather`, and `The Usual Suspects` are the most highly rated movies. This result makes much more sense since these movies are critically acclaimed films.\n",
    "</p>\n",
    "</div>\n"
   ]
  },
  {
   "cell_type": "markdown",
   "id": "07454983",
   "metadata": {},
   "source": [
    "**A look at Movie Genres**\n",
    "\n",
    "The movies dataset needs to be cleaned in two ways:\n",
    "\n",
    "- `genres` is expressed as a string with a pipe `|` separating each genre. We will manipulate this string into a list, which will make it much easier to analyze."
   ]
  },
  {
   "cell_type": "code",
   "execution_count": 8,
   "id": "c8dea439",
   "metadata": {},
   "outputs": [
    {
     "data": {
      "text/html": [
       "<div>\n",
       "<style scoped>\n",
       "    .dataframe tbody tr th:only-of-type {\n",
       "        vertical-align: middle;\n",
       "    }\n",
       "\n",
       "    .dataframe tbody tr th {\n",
       "        vertical-align: top;\n",
       "    }\n",
       "\n",
       "    .dataframe thead th {\n",
       "        text-align: right;\n",
       "    }\n",
       "</style>\n",
       "<table border=\"1\" class=\"dataframe\">\n",
       "  <thead>\n",
       "    <tr style=\"text-align: right;\">\n",
       "      <th></th>\n",
       "      <th>movieId</th>\n",
       "      <th>title</th>\n",
       "      <th>genres</th>\n",
       "    </tr>\n",
       "  </thead>\n",
       "  <tbody>\n",
       "    <tr>\n",
       "      <th>0</th>\n",
       "      <td>1</td>\n",
       "      <td>Toy Story</td>\n",
       "      <td>[Adventure, Animation, Children, Comedy, Fantasy]</td>\n",
       "    </tr>\n",
       "    <tr>\n",
       "      <th>1</th>\n",
       "      <td>2</td>\n",
       "      <td>Jumanji</td>\n",
       "      <td>[Adventure, Children, Fantasy]</td>\n",
       "    </tr>\n",
       "    <tr>\n",
       "      <th>2</th>\n",
       "      <td>3</td>\n",
       "      <td>Grumpier Old Men</td>\n",
       "      <td>[Comedy, Romance]</td>\n",
       "    </tr>\n",
       "    <tr>\n",
       "      <th>3</th>\n",
       "      <td>4</td>\n",
       "      <td>Waiting to Exhale</td>\n",
       "      <td>[Comedy, Drama, Romance]</td>\n",
       "    </tr>\n",
       "    <tr>\n",
       "      <th>4</th>\n",
       "      <td>5</td>\n",
       "      <td>Father of the Bride Part II</td>\n",
       "      <td>[Comedy]</td>\n",
       "    </tr>\n",
       "  </tbody>\n",
       "</table>\n",
       "</div>"
      ],
      "text/plain": [
       "   movieId                        title  \\\n",
       "0        1                    Toy Story   \n",
       "1        2                      Jumanji   \n",
       "2        3             Grumpier Old Men   \n",
       "3        4            Waiting to Exhale   \n",
       "4        5  Father of the Bride Part II   \n",
       "\n",
       "                                              genres  \n",
       "0  [Adventure, Animation, Children, Comedy, Fantasy]  \n",
       "1                     [Adventure, Children, Fantasy]  \n",
       "2                                  [Comedy, Romance]  \n",
       "3                           [Comedy, Drama, Romance]  \n",
       "4                                           [Comedy]  "
      ]
     },
     "execution_count": 8,
     "metadata": {},
     "output_type": "execute_result"
    }
   ],
   "source": [
    "# We will try to do the analysis on Genres of films\n",
    "movies['genres'] = movies['genres'].apply(lambda x: x.split(\"|\"))\n",
    "movies.head()"
   ]
  },
  {
   "cell_type": "markdown",
   "id": "3c56d0f6",
   "metadata": {},
   "source": [
    "\n",
    "\n",
    "<div style=\"color:black;\n",
    "           display:fill;\n",
    "           border-radius:5px;\n",
    "           background-color:Beige;\n",
    "           font-size:110%;\n",
    "           letter-spacing:0.5px\">\n",
    "<p style=\"padding: 10px;\n",
    "              color:black; font-weight:bold;\">\n",
    "We will be creating a sparse matrix from the ratings dataframe. This is for using the data for our models in for recommendation system\n",
    "\n",
    "So below function creates a sparse matrix from ratings dataframe with an argument containing pandas dataframe with 3 columns (userId, movieId, rating)\n",
    "    \n",
    "Returning below items\n",
    "\n",
    "- X: sparse matrix\n",
    "- user_mapper: dict that maps user id's to user indices\n",
    "- user_inv_mapper: dict that maps user indices to user id's\n",
    "- movie_mapper: dict that maps movie id's to movie indices\n",
    "- movie_inv_mapper: dict that maps movie indices to movie id's\n",
    "</p>\n",
    "</div>\n",
    "\n"
   ]
  },
  {
   "cell_type": "code",
   "execution_count": 9,
   "id": "dabfd19f",
   "metadata": {},
   "outputs": [],
   "source": [
    "    from scipy.sparse import csr_matrix\n",
    "\n",
    "    def create_X(df):\n",
    "\n",
    "        M = df['userId'].nunique()\n",
    "        N = df['movieId'].nunique()\n",
    "\n",
    "        user_mapper = dict(zip(np.unique(df[\"userId\"]), list(range(M))))\n",
    "        movie_mapper = dict(zip(np.unique(df[\"movieId\"]), list(range(N))))\n",
    "\n",
    "        user_inv_mapper = dict(zip(list(range(M)), np.unique(df[\"userId\"])))\n",
    "        movie_inv_mapper = dict(zip(list(range(N)), np.unique(df[\"movieId\"])))\n",
    "\n",
    "        user_index = [user_mapper[i] for i in df['userId']]\n",
    "        item_index = [movie_mapper[i] for i in df['movieId']]\n",
    "\n",
    "        X = csr_matrix((df[\"rating\"], (user_index,item_index)), shape=(M,N))\n",
    "\n",
    "        return X, user_mapper, movie_mapper, user_inv_mapper, movie_inv_mapper\n",
    "\n",
    "    X, user_mapper, movie_mapper, user_inv_mapper, movie_inv_mapper = create_X(ratings)"
   ]
  },
  {
   "cell_type": "code",
   "execution_count": 10,
   "id": "36134e99",
   "metadata": {},
   "outputs": [
    {
     "data": {
      "text/plain": [
       "(138497, 26744)"
      ]
     },
     "execution_count": 10,
     "metadata": {},
     "output_type": "execute_result"
    }
   ],
   "source": [
    "X.shape"
   ]
  },
  {
   "cell_type": "code",
   "execution_count": 11,
   "id": "1612d43a",
   "metadata": {},
   "outputs": [
    {
     "name": "stdout",
     "output_type": "stream",
     "text": [
      "Matrix sparsity: 0.54%\n"
     ]
    }
   ],
   "source": [
    "#Here we will be finding out the sparsity of the matrix \n",
    "\n",
    "n_total = X.shape[0]*X.shape[1]\n",
    "n_ratings = X.nnz\n",
    "sparsity = n_ratings/n_total\n",
    "print(f\"Matrix sparsity: {round(sparsity*100,2)}%\")"
   ]
  },
  {
   "cell_type": "markdown",
   "id": "d09f348e",
   "metadata": {},
   "source": [
    "As we can see sparsity is 0.54, this matrix can be used for model"
   ]
  },
  {
   "cell_type": "code",
   "execution_count": 12,
   "id": "b7bd2838",
   "metadata": {},
   "outputs": [],
   "source": [
    "movie_titles = dict(zip(movies['movieId'], movies['title']))"
   ]
  },
  {
   "cell_type": "markdown",
   "id": "bc37c92e",
   "metadata": {},
   "source": [
    "## First Recommendation System - with KNN using Matrix Factorization (SVD)\n"
   ]
  },
  {
   "cell_type": "markdown",
   "id": "d1d04318",
   "metadata": {},
   "source": [
    "<div style=\"color:black;\n",
    "           display:fill;\n",
    "           border-radius:5px;\n",
    "           background-color:Beige;\n",
    "           font-size:110%;\n",
    "           letter-spacing:0.5px\">\n",
    "<p style=\"padding: 10px;color:black; font-weight:bold;\">\n",
    "Sometimes the recommendation can be affected by having sparsity in the utility matrix which we created before. we need to do Matrix factorization.\n",
    "\n",
    "Matrix factorization (MF)  is a linear algebra technique that can help us discover latent features underlying the interactions between users and movies. These latent features give a more compact representation of user tastes and item descriptions. MF is particularly useful for very sparse data and can enhance the quality of recommendations. The algorithm works by factorizing the original user-item matrix into two factor matrices:\n",
    "\n",
    "- user-factor matrix (n_users, k)\n",
    "- item-factor matrix (k, n_items)\n",
    "\n",
    "We are reducing the dimensions of our original matrix into \"taste\" dimensions. We cannot interpret what each latent feature $k$ represents. However, we could imagine that one latent feature may represent users who like romantic comedies from the 1990s, while another latent feature may represent movies which are independent foreign language films.\n",
    "</p>\n",
    "</div>"
   ]
  },
  {
   "cell_type": "code",
   "execution_count": 13,
   "id": "7dd2f422",
   "metadata": {},
   "outputs": [],
   "source": [
    "## Using Nearest KNN Algorithm to find recommendations\n",
    "\n",
    "from sklearn.neighbors import NearestNeighbors\n",
    "\n",
    "def find_similar_movies(movie_id, X, movie_mapper, movie_inv_mapper, k, metric='euclidean'):\n",
    "    \"\"\"\n",
    "    Finds k-nearest neighbours for a given movie id.\n",
    "    \n",
    "    Args:\n",
    "        movie_id: id of the movie of interest\n",
    "        X: user-item utility matrix\n",
    "        k: number of similar movies to retrieve\n",
    "        metric: distance metric for kNN calculations\n",
    "    \n",
    "    Output: returns list of k similar movie ID's\n",
    "    \"\"\"\n",
    "    X = X.T\n",
    "    neighbour_ids = []\n",
    "    \n",
    "    movie_ind = movie_mapper[movie_id]\n",
    "    movie_vec = X[movie_ind]\n",
    "    if isinstance(movie_vec, (np.ndarray)):\n",
    "        movie_vec = movie_vec.reshape(1,-1)\n",
    "    # use k+1 since kNN output includes the movieId of interest\n",
    "    kNN = NearestNeighbors(n_neighbors=k+1, algorithm=\"brute\", metric=metric)\n",
    "    kNN.fit(X)\n",
    "    neighbour = kNN.kneighbors(movie_vec, return_distance=False)\n",
    "    for i in range(0,k):\n",
    "        n = neighbour.item(i)\n",
    "        neighbour_ids.append(movie_inv_mapper[n])\n",
    "    neighbour_ids.pop(0)\n",
    "    return neighbour_ids"
   ]
  },
  {
   "cell_type": "code",
   "execution_count": 14,
   "id": "4e74afb1",
   "metadata": {},
   "outputs": [
    {
     "data": {
      "text/plain": [
       "(26744, 20)"
      ]
     },
     "execution_count": 14,
     "metadata": {},
     "output_type": "execute_result"
    }
   ],
   "source": [
    "##Using SVD to do the recommendation\n",
    "\n",
    "from sklearn.decomposition import TruncatedSVD\n",
    "\n",
    "svd = TruncatedSVD(n_components=20, n_iter=10)\n",
    "Q = svd.fit_transform(X.T)\n",
    "Q.shape"
   ]
  },
  {
   "cell_type": "markdown",
   "id": "846ccd89",
   "metadata": {},
   "source": [
    "## Second Recommendation System -  Content Based Recommendation System"
   ]
  },
  {
   "cell_type": "markdown",
   "id": "b55f674a",
   "metadata": {},
   "source": [
    "\n",
    "<div style=\"color:black;\n",
    "           display:fill;\n",
    "           border-radius:5px;\n",
    "           background-color:Beige;\n",
    "           font-size:110%;\n",
    "           letter-spacing:0.5px\">\n",
    "<p style=\"padding: 10px; color:black; font-weight:bold;\">\n",
    "Handling the Cold Start Problem with Content-Based Filtering\n",
    "\n",
    "Collaborative filtering relies solely on user-item interactions within the utility matrix. The issue with this approach is that brand new users or items with no interactions get excluded from the recommendation system. This is called the \"cold start\" problem. Content-based filtering is a way to handle this problem by generating recommendations based on user and item features.\n",
    "\n",
    "</p>\n",
    "</div>"
   ]
  },
  {
   "cell_type": "markdown",
   "id": "f960acea",
   "metadata": {},
   "source": [
    "\n",
    "<div style=\"color:black;\n",
    "           display:fill;\n",
    "           border-radius:5px;\n",
    "           background-color:Beige;\n",
    "           font-size:110%;\n",
    "           letter-spacing:0.5px\">\n",
    "<p style=\"padding: 10px; color:black; font-weight:bold;\">\n",
    "**We will be using TMDB dataset also in below case to get more details on the movies as there are less details on movielens dataset.There is a file called **links.csv** which will help to link Movielens dataset to TMDB Dataset.**\n",
    "\n",
    "</p>\n",
    "</div>"
   ]
  },
  {
   "cell_type": "code",
   "execution_count": 15,
   "id": "b78a6a2e",
   "metadata": {},
   "outputs": [],
   "source": [
    "movielens = pd.read_csv('movies.csv') #this file comes from movielens dataset\n",
    "tmdb = pd.read_csv('tmdb_movies_data.csv')\n",
    "link = pd.read_csv('links.csv') #this file comes from movielens dataset\n",
    "tags = pd.read_csv('tags.csv') #this file comes from movielens dataset"
   ]
  },
  {
   "cell_type": "markdown",
   "id": "5f66a46b",
   "metadata": {},
   "source": [
    "\n",
    "<div style=\"color:black;\n",
    "           display:fill;\n",
    "           border-radius:5px;\n",
    "           background-color:Beige;\n",
    "           font-size:110%;\n",
    "           letter-spacing:0.5px\">\n",
    "<p style=\"padding: 10px; color:black; font-weight:bold;\">\n",
    "Below we will be doing the data prepration steps for the dataset for modelling.\n",
    "\n",
    "</p>\n",
    "</div>"
   ]
  },
  {
   "cell_type": "code",
   "execution_count": 16,
   "id": "fbee9e35",
   "metadata": {},
   "outputs": [],
   "source": [
    "movielens_link = pd.merge(movielens, link, on='movieId', how='left')\n",
    "tmdb = tmdb.rename(columns={'id': 'tmdbId'})\n",
    "movielens_tmdb = pd.merge(movielens_link,tmdb,on ='tmdbId')\n",
    "movielens_tmdb.drop(columns=['imdb_id','imdbId','popularity','budget','revenue','original_title','homepage','runtime','genres_y','production_companies','release_date','vote_count','vote_average','release_year','budget_adj','revenue_adj'], inplace=True)\n",
    "movielens_tmdb.rename(columns={\"genres_x\": \"genre\"}, inplace=True)\n",
    "agg_tags = tags.groupby('movieId')['tag'].apply(list).reset_index()"
   ]
  },
  {
   "cell_type": "code",
   "execution_count": 17,
   "id": "db6cfefd",
   "metadata": {},
   "outputs": [],
   "source": [
    "movie_cba = pd.merge(movielens_tmdb,agg_tags,on='movieId')\n",
    "movie_cba = movie_cba.rename(columns={'title_y': 'title'})\n",
    "movie_cba['combined_data'] = movie_cba.apply(lambda row: f\"{row['genre']} {row['overview']} {row['tag']} {row['cast']} {row['director']} {row['tagline']} {row['keywords']}\", axis=1)\n",
    "movie_cba = movie_cba.drop(columns = ['overview','tag'])\n",
    "movie_cba['tmdbId'] = movie_cba['tmdbId'].astype(int)\n",
    "def format_genres(genre):\n",
    "    return ', '.join(genre.split('|'))\n",
    "movie_cba['genre'] = movie_cba['genre'].apply(format_genres)\n",
    "movie_cba = movie_cba.rename(columns={'genre': 'genres'})\n",
    "movie_cba['cast'] = movie_cba['cast'].str.split('|').str[:4].str.join(', ')\n",
    "movie_cba['title'] = movie_cba['title'].str.replace(r'\\s\\(\\d{4}\\)', '', case=False, regex=True)\n",
    "movie_cba = movie_cba.drop(columns = ['keywords','tagline'])\n",
    "movie_cba['combined_data'] = movie_cba['combined_data'].str.replace(r'[\\[\\]\\|,]', ' ', regex=True)\n",
    "movie_cba['title'] = movie_cba['title'].str.replace(r'\\s\\(\\d{4}\\)', '', case=False, regex=True)\n",
    "movie_cba['title'] = movie_cba['title'].str.replace(',', ' ').str.replace('&', ' ').str.replace('$', ' ').str.replace(\"'\", '').str.replace('/', ' ')\n",
    "movieids_cba = movie_cba['movieId'].tolist()"
   ]
  },
  {
   "cell_type": "code",
   "execution_count": 18,
   "id": "d27a308e",
   "metadata": {},
   "outputs": [],
   "source": [
    "#Creating the vector matrix usng the tags for each movies\n",
    "from sklearn.feature_extraction.text import CountVectorizer\n",
    "cv = CountVectorizer(max_features=5000,stop_words='english')\n",
    "vector = cv.fit_transform(movie_cba['combined_data']).toarray()\n",
    "#finding the cosine similarity upon the call. \n",
    "from sklearn.metrics.pairwise import cosine_similarity\n",
    "similarity = cosine_similarity(vector)"
   ]
  },
  {
   "cell_type": "code",
   "execution_count": 19,
   "id": "321935c5",
   "metadata": {},
   "outputs": [],
   "source": [
    "def recommend(movie):\n",
    "    index = movie_cba[movie_cba['title'] == movie].index[0]\n",
    "    distances = sorted(list(enumerate(similarity[index])),reverse=True,key = lambda x: x[1])\n",
    "    for i in distances[1:11]:\n",
    "        print(movie_cba.iloc[i[0]].title)"
   ]
  },
  {
   "cell_type": "markdown",
   "id": "f6345dc6",
   "metadata": {},
   "source": [
    "<div style=\"color:black;\n",
    "           display:fill;\n",
    "           border-radius:5px;\n",
    "           background-color:Beige;\n",
    "           font-size:110%;\n",
    "           letter-spacing:0.5px\">\n",
    "<p style=\"padding: 10px; color:black; font-weight:bold;\">\n",
    "Below we will find do the export of files needed for building the dashboard for recommendation system.\n",
    "</p>\n",
    "</div>"
   ]
  },
  {
   "cell_type": "code",
   "execution_count": 20,
   "id": "135529fd",
   "metadata": {},
   "outputs": [],
   "source": [
    "# Create empty lists to store the recommendation data\n",
    "recommendation_data = []\n",
    "\n",
    "# Iterate over movieIds in movieids_cba\n",
    "for i in movieids_cba:\n",
    "    # Check if the movie ID exists in the dataset\n",
    "    if i in movie_mapper:\n",
    "        similar_movies = find_similar_movies(i, Q.T, movie_mapper, movie_inv_mapper, metric='cosine', k=10)\n",
    "        movie_title = movie_titles[i]\n",
    "\n",
    "    # Store the recommendations as a comma-separated string within quotes\n",
    "    recommendations = ', '.join([f'\"{movie_titles[movie_id]}\"' for movie_id in similar_movies])\n",
    "\n",
    "    # Create a dictionary with the recommendation data\n",
    "    recommendation_dict = {\n",
    "        'MovieId': i,\n",
    "        'MovieName': movie_title,\n",
    "        'Recommendations': recommendations\n",
    "    }\n",
    "\n",
    "    # Append the dictionary to the recommendation_data list\n",
    "    recommendation_data.append(recommendation_dict)\n",
    "\n",
    "# Create a DataFrame from the recommendation_data list\n",
    "recommendation_df = pd.DataFrame(recommendation_data)\n",
    "recommendation_df.to_csv('movie_recommendations_knn.csv', index=False)"
   ]
  },
  {
   "cell_type": "code",
   "execution_count": 21,
   "id": "75904ed9",
   "metadata": {},
   "outputs": [],
   "source": [
    "pickle.dump(movie_cba,open('movie_list.pkl','wb'))\n",
    "pickle.dump(similarity,open('cba_similarity.pkl','wb'))\n",
    "pickle.dump(ratings,open('user_rating.pkl','wb'))"
   ]
  },
  {
   "cell_type": "code",
   "execution_count": 22,
   "id": "f9b79067",
   "metadata": {},
   "outputs": [],
   "source": [
    "movie_ratings = ratings.merge(movies, on='movieId')\n",
    "filtered_movie_ratings = movie_ratings[movie_ratings['movieId'].isin(movieids_cba)]\n",
    "# Group by 'userId' and aggregate 'movieId' into a list and count the number of movie IDs\n",
    "grouped_user_id = filtered_movie_ratings.groupby('userId')['movieId'].agg(list).reset_index()\n",
    "\n",
    "# Rename columns if needed\n",
    "grouped_user_id.columns = ['userId', 'movieId']\n",
    "grouped_user_id['movie_num'] = grouped_user_id['movieId'].apply(len)\n",
    "#grouped_user_filtered_df = grouped_user_id[grouped_user_id['movie_num'] > 400]\n",
    "grouped_user_filtered_df = grouped_user_id[grouped_user_id['movie_num'] > 0]\n",
    "grouped_user_filtered_df.to_csv('grouped_user_filtered_df.csv', index=False)"
   ]
  },
  {
   "cell_type": "code",
   "execution_count": 23,
   "id": "1cf0c184",
   "metadata": {},
   "outputs": [],
   "source": [
    "df = pd.DataFrame({'genres': movie_cba['genres']})\n",
    "genres_split = df['genres'].str.split(', ')\n",
    "unique_genres = []\n",
    "for genres_list in genres_split.dropna():  # dropna() removes rows where 'genre' is NaN\n",
    "    unique_genres.extend(genres_list)\n",
    "unique_genres = [genre.strip() for genre in unique_genres]\n",
    "unique_genres = set(unique_genres) - {'(no genres listed)'}\n",
    "with open('unique_genres.pkl', 'wb') as f:\n",
    "    pickle.dump(unique_genres, f)\n"
   ]
  },
  {
   "cell_type": "code",
   "execution_count": 24,
   "id": "72bc20c1",
   "metadata": {},
   "outputs": [],
   "source": [
    "movie_cba['cast'] = movie_cba['cast'].apply(lambda x: x.split(', ')[:3] if isinstance(x, str) else [])\n",
    "all_cast = [actor for sublist in movie_cba['cast'].tolist() for actor in sublist]\n",
    "unique_cast = set(all_cast)\n",
    "with open('unique_cast.pkl', 'wb') as f:\n",
    "    pickle.dump(unique_cast, f)"
   ]
  },
  {
   "cell_type": "markdown",
   "id": "26f1f8e6",
   "metadata": {},
   "source": [
    "\n",
    "<div style=\"color:black;\n",
    "           display:fill;\n",
    "           border-radius:5px;\n",
    "           background-color:Beige;\n",
    "           font-size:110%;\n",
    "           letter-spacing:0.5px\">\n",
    "<p style=\"padding: 10px;color:black; font-weight:bold;\">\n",
    "\n",
    "<strong>Below we will be creating a user semantics file which contains the details of movies rated, liked and reviwes provided by users</strong>\n",
    "</p>\n",
    "</div>"
   ]
  },
  {
   "cell_type": "code",
   "execution_count": 25,
   "id": "f5c8ab81",
   "metadata": {},
   "outputs": [],
   "source": [
    "user_sem = ratings\n",
    "user_semantics = pd.merge(grouped_user_filtered_df, user_sem, on='userId')\n",
    "user_semantics.drop('movieId_x',axis=1,inplace=True)\n",
    "user_semantics.drop('movie_num',axis=1,inplace=True)\n",
    "user_semantics.drop('timestamp',axis=1,inplace=True)\n",
    "user_semantics = user_semantics.rename(columns={'movieId_y': 'movieId'})"
   ]
  },
  {
   "cell_type": "code",
   "execution_count": 26,
   "id": "0f56f7d4",
   "metadata": {},
   "outputs": [],
   "source": [
    "user_semantics['liked(Yes_No)'] = user_semantics['rating'].apply(lambda x: 'Yes' if x >= 4 else 'No')\n",
    "user_semantics['reviews'] = user_semantics['rating'].apply(lambda x: 'Excellent movie with well played cast and well written script' if x == 5 else ('Good movie' if x == 4.5 else ('Good movie' if x == 4 else ('Average movie' if x == 3.5 or x == 3 else 'Bad or worst movie I have ever seen'))))\n",
    "user_semantics.to_csv('user_semantics.csv', index=False)"
   ]
  },
  {
   "cell_type": "markdown",
   "id": "bc4b84fd",
   "metadata": {},
   "source": [
    "\n",
    "<div style=\"color:black;\n",
    "           display:fill;\n",
    "           border-radius:5px;\n",
    "           background-color:Beige;\n",
    "           font-size:110%;\n",
    "           letter-spacing:0.5px\">\n",
    "<p style=\"padding: 10px;color:black; font-weight:bold;\">\n",
    "\n",
    "<strong>Now we will run the Dashboard.ipynb</strong>\n",
    "</p>\n",
    "</div>"
   ]
  },
  {
   "cell_type": "code",
   "execution_count": null,
   "id": "22b803fe",
   "metadata": {},
   "outputs": [],
   "source": []
  }
 ],
 "metadata": {
  "kernelspec": {
   "display_name": "Python 3 (ipykernel)",
   "language": "python",
   "name": "python3"
  },
  "language_info": {
   "codemirror_mode": {
    "name": "ipython",
    "version": 3
   },
   "file_extension": ".py",
   "mimetype": "text/x-python",
   "name": "python",
   "nbconvert_exporter": "python",
   "pygments_lexer": "ipython3",
   "version": "3.9.13"
  }
 },
 "nbformat": 4,
 "nbformat_minor": 5
}
